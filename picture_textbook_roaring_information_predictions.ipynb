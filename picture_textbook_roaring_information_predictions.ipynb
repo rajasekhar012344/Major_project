{
  "nbformat": 4,
  "nbformat_minor": 0,
  "metadata": {
    "colab": {
      "provenance": []
    },
    "kernelspec": {
      "name": "python3",
      "display_name": "Python 3"
    },
    "language_info": {
      "name": "python"
    }
  },
  "cells": [
    {
      "cell_type": "code",
      "execution_count": 1,
      "metadata": {
        "id": "3eTtp2I2DJMZ"
      },
      "outputs": [],
      "source": [
        "# Importing necessary libraries\n",
        "import numpy as np\n",
        "import pandas as pd\n",
        "import matplotlib.pyplot as plt\n",
        "from sklearn.model_selection import train_test_split\n",
        "from sklearn.preprocessing import StandardScaler\n",
        "from sklearn.linear_model import LogisticRegression\n",
        "from sklearn.tree import DecisionTreeClassifier\n",
        "from sklearn.ensemble import RandomForestClassifier\n",
        "from sklearn.neighbors import KNeighborsClassifier\n",
        "from sklearn.metrics import accuracy_score\n",
        "from statsmodels.tsa.arima.model import ARIMA\n",
        "from sklearn.metrics import mean_squared_error\n",
        "from keras.models import Sequential\n",
        "from keras.layers import Dense, LSTM\n",
        "from tensorflow import keras\n",
        "from statsmodels.tsa.arima.model import ARIMA\n",
        "from sklearn.metrics import mean_squared_error"
      ]
    },
    {
      "cell_type": "code",
      "source": [
        "# Load dataset (replace 'data.csv' with your dataset)\n",
        "data = pd.read_csv('Picture_Roaring_Dataset.csv')"
      ],
      "metadata": {
        "id": "fnVQQajTDOK6"
      },
      "execution_count": 2,
      "outputs": []
    },
    {
      "cell_type": "code",
      "source": [
        "print(data.head)\n",
        "print(data.tail)\n",
        "print(data.describe)"
      ],
      "metadata": {
        "colab": {
          "base_uri": "https://localhost:8080/"
        },
        "id": "SZJg6O3V_z7w",
        "outputId": "8e2438ad-181c-4827-c3c4-3a5b140174fe"
      },
      "execution_count": 3,
      "outputs": [
        {
          "output_type": "stream",
          "name": "stdout",
          "text": [
            "<bound method NDFrame.head of       Textbook_ID            ISBN Publication_Date Publication_Mode  \\\n",
            "0            7981  CA-2014-103800       03-01-2014   Standard Class   \n",
            "1             740  CA-2014-112326       04-01-2014   Standard Class   \n",
            "2             741  CA-2014-112326       04-01-2014   Standard Class   \n",
            "3             742  CA-2014-112326       04-01-2014   Standard Class   \n",
            "4            1760  CA-2014-141817       05-01-2014   Standard Class   \n",
            "...           ...             ...              ...              ...   \n",
            "9989          908  CA-2017-143259       30-12-2017   Standard Class   \n",
            "9990          909  CA-2017-143259       30-12-2017   Standard Class   \n",
            "9991         1297  CA-2017-115427       30-12-2017   Standard Class   \n",
            "9992         1298  CA-2017-115427       30-12-2017   Standard Class   \n",
            "9993         5092  CA-2017-156720       30-12-2017   Standard Class   \n",
            "\n",
            "     Customer ID      Customer Name        Country           City  \\\n",
            "0       DP-13000      Darren Powers  United States        Houston   \n",
            "1       PO-19195      Phillina Ober  United States     Naperville   \n",
            "2       PO-19195      Phillina Ober  United States     Naperville   \n",
            "3       PO-19195      Phillina Ober  United States     Naperville   \n",
            "4       MB-18085         Mick Brown  United States   Philadelphia   \n",
            "...          ...                ...            ...            ...   \n",
            "9989    PO-18865  Patrick O'Donnell  United States  New York City   \n",
            "9990    PO-18865  Patrick O'Donnell  United States  New York City   \n",
            "9991    EB-13975         Erica Bern  United States      Fairfield   \n",
            "9992    EB-13975         Erica Bern  United States      Fairfield   \n",
            "9993    JM-15580      Jill Matthias  United States       Loveland   \n",
            "\n",
            "             State  Postal Code  ... Discount   Profit Roaring_Page_Number  \\\n",
            "0            Texas        77095  ...      0.2   5.5512                  85   \n",
            "1         Illinois        60540  ...      0.2   4.2717                  80   \n",
            "2         Illinois        60540  ...      0.2 -64.7748                  81   \n",
            "3         Illinois        60540  ...      0.8  -5.4870                  79   \n",
            "4     Pennsylvania        19143  ...      0.2   4.8840                  84   \n",
            "...            ...          ...  ...      ...      ...                 ...   \n",
            "9989      New York        10009  ...      0.0   2.7279                8994   \n",
            "9990      New York        10009  ...      0.2  19.7910                8995   \n",
            "9991    California        94533  ...      0.2   4.5188                8996   \n",
            "9992    California        94533  ...      0.2   6.4750                8997   \n",
            "9993      Colorado        80538  ...      0.2  -0.6048                8998   \n",
            "\n",
            "      Roaring_Sound_Length  Roaring_Sound_Frequency  Roaring_Sound_Intensity  \\\n",
            "0                      115                       16                       60   \n",
            "1                      121                       12                       68   \n",
            "2                      119                       14                       83   \n",
            "3                      116                       13                       81   \n",
            "4                      122                       16                       61   \n",
            "...                    ...                      ...                      ...   \n",
            "9989                  8994                     8994                     8994   \n",
            "9990                  8995                     8995                     8995   \n",
            "9991                  8996                     8996                     8996   \n",
            "9992                  8997                     8997                     8997   \n",
            "9993                  8998                     8998                     8998   \n",
            "\n",
            "      Roaring_Sound_Location  Roaring_Sound_Size  \\\n",
            "0                  36.234725              16.448   \n",
            "1                  37.128890              11.784   \n",
            "2                  36.481141             272.736   \n",
            "3                  36.588803               3.540   \n",
            "4                  36.146362              19.536   \n",
            "...                      ...                 ...   \n",
            "9989             8994.000000            8994.000   \n",
            "9990             8995.000000            8995.000   \n",
            "9991             8996.000000            8996.000   \n",
            "9992             8997.000000            8997.000   \n",
            "9993             8998.000000            8998.000   \n",
            "\n",
            "      Roaring_Visual_Effect_Duration  Roaring_Visual_Effect_Illustrator  \n",
            "0                                110                             101.50  \n",
            "1                                345                             101.50  \n",
            "2                                580                             101.51  \n",
            "3                                815                             101.51  \n",
            "4                               1050                             101.51  \n",
            "...                              ...                                ...  \n",
            "9989                            8994                            8994.00  \n",
            "9990                            8995                            8995.00  \n",
            "9991                            8996                            8996.00  \n",
            "9992                            8997                            8997.00  \n",
            "9993                            8998                            8998.00  \n",
            "\n",
            "[9994 rows x 25 columns]>\n",
            "<bound method NDFrame.tail of       Textbook_ID            ISBN Publication_Date Publication_Mode  \\\n",
            "0            7981  CA-2014-103800       03-01-2014   Standard Class   \n",
            "1             740  CA-2014-112326       04-01-2014   Standard Class   \n",
            "2             741  CA-2014-112326       04-01-2014   Standard Class   \n",
            "3             742  CA-2014-112326       04-01-2014   Standard Class   \n",
            "4            1760  CA-2014-141817       05-01-2014   Standard Class   \n",
            "...           ...             ...              ...              ...   \n",
            "9989          908  CA-2017-143259       30-12-2017   Standard Class   \n",
            "9990          909  CA-2017-143259       30-12-2017   Standard Class   \n",
            "9991         1297  CA-2017-115427       30-12-2017   Standard Class   \n",
            "9992         1298  CA-2017-115427       30-12-2017   Standard Class   \n",
            "9993         5092  CA-2017-156720       30-12-2017   Standard Class   \n",
            "\n",
            "     Customer ID      Customer Name        Country           City  \\\n",
            "0       DP-13000      Darren Powers  United States        Houston   \n",
            "1       PO-19195      Phillina Ober  United States     Naperville   \n",
            "2       PO-19195      Phillina Ober  United States     Naperville   \n",
            "3       PO-19195      Phillina Ober  United States     Naperville   \n",
            "4       MB-18085         Mick Brown  United States   Philadelphia   \n",
            "...          ...                ...            ...            ...   \n",
            "9989    PO-18865  Patrick O'Donnell  United States  New York City   \n",
            "9990    PO-18865  Patrick O'Donnell  United States  New York City   \n",
            "9991    EB-13975         Erica Bern  United States      Fairfield   \n",
            "9992    EB-13975         Erica Bern  United States      Fairfield   \n",
            "9993    JM-15580      Jill Matthias  United States       Loveland   \n",
            "\n",
            "             State  Postal Code  ... Discount   Profit Roaring_Page_Number  \\\n",
            "0            Texas        77095  ...      0.2   5.5512                  85   \n",
            "1         Illinois        60540  ...      0.2   4.2717                  80   \n",
            "2         Illinois        60540  ...      0.2 -64.7748                  81   \n",
            "3         Illinois        60540  ...      0.8  -5.4870                  79   \n",
            "4     Pennsylvania        19143  ...      0.2   4.8840                  84   \n",
            "...            ...          ...  ...      ...      ...                 ...   \n",
            "9989      New York        10009  ...      0.0   2.7279                8994   \n",
            "9990      New York        10009  ...      0.2  19.7910                8995   \n",
            "9991    California        94533  ...      0.2   4.5188                8996   \n",
            "9992    California        94533  ...      0.2   6.4750                8997   \n",
            "9993      Colorado        80538  ...      0.2  -0.6048                8998   \n",
            "\n",
            "      Roaring_Sound_Length  Roaring_Sound_Frequency  Roaring_Sound_Intensity  \\\n",
            "0                      115                       16                       60   \n",
            "1                      121                       12                       68   \n",
            "2                      119                       14                       83   \n",
            "3                      116                       13                       81   \n",
            "4                      122                       16                       61   \n",
            "...                    ...                      ...                      ...   \n",
            "9989                  8994                     8994                     8994   \n",
            "9990                  8995                     8995                     8995   \n",
            "9991                  8996                     8996                     8996   \n",
            "9992                  8997                     8997                     8997   \n",
            "9993                  8998                     8998                     8998   \n",
            "\n",
            "      Roaring_Sound_Location  Roaring_Sound_Size  \\\n",
            "0                  36.234725              16.448   \n",
            "1                  37.128890              11.784   \n",
            "2                  36.481141             272.736   \n",
            "3                  36.588803               3.540   \n",
            "4                  36.146362              19.536   \n",
            "...                      ...                 ...   \n",
            "9989             8994.000000            8994.000   \n",
            "9990             8995.000000            8995.000   \n",
            "9991             8996.000000            8996.000   \n",
            "9992             8997.000000            8997.000   \n",
            "9993             8998.000000            8998.000   \n",
            "\n",
            "      Roaring_Visual_Effect_Duration  Roaring_Visual_Effect_Illustrator  \n",
            "0                                110                             101.50  \n",
            "1                                345                             101.50  \n",
            "2                                580                             101.51  \n",
            "3                                815                             101.51  \n",
            "4                               1050                             101.51  \n",
            "...                              ...                                ...  \n",
            "9989                            8994                            8994.00  \n",
            "9990                            8995                            8995.00  \n",
            "9991                            8996                            8996.00  \n",
            "9992                            8997                            8997.00  \n",
            "9993                            8998                            8998.00  \n",
            "\n",
            "[9994 rows x 25 columns]>\n",
            "<bound method NDFrame.describe of       Textbook_ID            ISBN Publication_Date Publication_Mode  \\\n",
            "0            7981  CA-2014-103800       03-01-2014   Standard Class   \n",
            "1             740  CA-2014-112326       04-01-2014   Standard Class   \n",
            "2             741  CA-2014-112326       04-01-2014   Standard Class   \n",
            "3             742  CA-2014-112326       04-01-2014   Standard Class   \n",
            "4            1760  CA-2014-141817       05-01-2014   Standard Class   \n",
            "...           ...             ...              ...              ...   \n",
            "9989          908  CA-2017-143259       30-12-2017   Standard Class   \n",
            "9990          909  CA-2017-143259       30-12-2017   Standard Class   \n",
            "9991         1297  CA-2017-115427       30-12-2017   Standard Class   \n",
            "9992         1298  CA-2017-115427       30-12-2017   Standard Class   \n",
            "9993         5092  CA-2017-156720       30-12-2017   Standard Class   \n",
            "\n",
            "     Customer ID      Customer Name        Country           City  \\\n",
            "0       DP-13000      Darren Powers  United States        Houston   \n",
            "1       PO-19195      Phillina Ober  United States     Naperville   \n",
            "2       PO-19195      Phillina Ober  United States     Naperville   \n",
            "3       PO-19195      Phillina Ober  United States     Naperville   \n",
            "4       MB-18085         Mick Brown  United States   Philadelphia   \n",
            "...          ...                ...            ...            ...   \n",
            "9989    PO-18865  Patrick O'Donnell  United States  New York City   \n",
            "9990    PO-18865  Patrick O'Donnell  United States  New York City   \n",
            "9991    EB-13975         Erica Bern  United States      Fairfield   \n",
            "9992    EB-13975         Erica Bern  United States      Fairfield   \n",
            "9993    JM-15580      Jill Matthias  United States       Loveland   \n",
            "\n",
            "             State  Postal Code  ... Discount   Profit Roaring_Page_Number  \\\n",
            "0            Texas        77095  ...      0.2   5.5512                  85   \n",
            "1         Illinois        60540  ...      0.2   4.2717                  80   \n",
            "2         Illinois        60540  ...      0.2 -64.7748                  81   \n",
            "3         Illinois        60540  ...      0.8  -5.4870                  79   \n",
            "4     Pennsylvania        19143  ...      0.2   4.8840                  84   \n",
            "...            ...          ...  ...      ...      ...                 ...   \n",
            "9989      New York        10009  ...      0.0   2.7279                8994   \n",
            "9990      New York        10009  ...      0.2  19.7910                8995   \n",
            "9991    California        94533  ...      0.2   4.5188                8996   \n",
            "9992    California        94533  ...      0.2   6.4750                8997   \n",
            "9993      Colorado        80538  ...      0.2  -0.6048                8998   \n",
            "\n",
            "      Roaring_Sound_Length  Roaring_Sound_Frequency  Roaring_Sound_Intensity  \\\n",
            "0                      115                       16                       60   \n",
            "1                      121                       12                       68   \n",
            "2                      119                       14                       83   \n",
            "3                      116                       13                       81   \n",
            "4                      122                       16                       61   \n",
            "...                    ...                      ...                      ...   \n",
            "9989                  8994                     8994                     8994   \n",
            "9990                  8995                     8995                     8995   \n",
            "9991                  8996                     8996                     8996   \n",
            "9992                  8997                     8997                     8997   \n",
            "9993                  8998                     8998                     8998   \n",
            "\n",
            "      Roaring_Sound_Location  Roaring_Sound_Size  \\\n",
            "0                  36.234725              16.448   \n",
            "1                  37.128890              11.784   \n",
            "2                  36.481141             272.736   \n",
            "3                  36.588803               3.540   \n",
            "4                  36.146362              19.536   \n",
            "...                      ...                 ...   \n",
            "9989             8994.000000            8994.000   \n",
            "9990             8995.000000            8995.000   \n",
            "9991             8996.000000            8996.000   \n",
            "9992             8997.000000            8997.000   \n",
            "9993             8998.000000            8998.000   \n",
            "\n",
            "      Roaring_Visual_Effect_Duration  Roaring_Visual_Effect_Illustrator  \n",
            "0                                110                             101.50  \n",
            "1                                345                             101.50  \n",
            "2                                580                             101.51  \n",
            "3                                815                             101.51  \n",
            "4                               1050                             101.51  \n",
            "...                              ...                                ...  \n",
            "9989                            8994                            8994.00  \n",
            "9990                            8995                            8995.00  \n",
            "9991                            8996                            8996.00  \n",
            "9992                            8997                            8997.00  \n",
            "9993                            8998                            8998.00  \n",
            "\n",
            "[9994 rows x 25 columns]>\n"
          ]
        }
      ]
    },
    {
      "cell_type": "code",
      "source": [
        "data['Target'] = (data['Textbook_ID'].shift(-1) > data['Textbook_ID']).astype(int)"
      ],
      "metadata": {
        "id": "uBzxGdkXAAG1"
      },
      "execution_count": 4,
      "outputs": []
    },
    {
      "cell_type": "code",
      "source": [
        "# Drop rows with NaN values\n",
        "data.dropna(inplace=True)"
      ],
      "metadata": {
        "id": "njkkFDYxACox"
      },
      "execution_count": 5,
      "outputs": []
    },
    {
      "cell_type": "code",
      "source": [
        "# Gathering the Information\n",
        "scaler = StandardScaler()\n",
        "scaled_data = scaler.fit_transform(data[['Textbook_ID', 'Roaring_Content_type', 'Roaring_Page_Number', 'Roaring_Sound_Length']])\n",
        "print(scaled_data)"
      ],
      "metadata": {
        "colab": {
          "base_uri": "https://localhost:8080/"
        },
        "id": "g5_oaHdqAGFD",
        "outputId": "c02ba1f5-1278-41ce-8467-d560b9029a70"
      },
      "execution_count": 6,
      "outputs": [
        {
          "output_type": "stream",
          "name": "stdout",
          "text": [
            "[[ 1.0341352  -0.34243459 -1.42076411 -1.41520622]\n",
            " [-1.47572671 -0.34991837 -1.42255154 -1.41305607]\n",
            " [-1.47538009  0.06880141 -1.42219405 -1.41377279]\n",
            " ...\n",
            " [-1.28266041 -0.34651665  1.76478889  1.76737382]\n",
            " [-1.28231379 -0.3355798   1.76514638  1.76773218]\n",
            " [ 0.03275541 -0.36397454  1.76550386  1.76809054]]\n"
          ]
        }
      ]
    },
    {
      "cell_type": "code",
      "source": [
        "# Create features and target variable\n",
        "X = scaled_data[:, :-1]\n",
        "y = data['Target'].values"
      ],
      "metadata": {
        "id": "c_THD9lgDQtG"
      },
      "execution_count": 7,
      "outputs": []
    },
    {
      "cell_type": "code",
      "source": [
        "# Splitting the dataset into training and testing sets\n",
        "X_train, X_test, y_train, y_test = train_test_split(X, y, test_size=0.2, random_state=42)"
      ],
      "metadata": {
        "id": "--YFrMijDWlB"
      },
      "execution_count": 8,
      "outputs": []
    },
    {
      "cell_type": "code",
      "source": [
        "# Standardizing the features\n",
        "scaler = StandardScaler()\n",
        "X_train = scaler.fit_transform(X_train)\n",
        "X_test = scaler.transform(X_test)"
      ],
      "metadata": {
        "id": "fml9mtDBDZbD"
      },
      "execution_count": 9,
      "outputs": []
    },
    {
      "cell_type": "code",
      "source": [
        "# Logistic Regression\n",
        "log_reg = LogisticRegression()\n",
        "log_reg.fit(X_train, y_train)\n",
        "log_reg_pred = log_reg.predict(X_test)\n",
        "log_reg_accuracy = accuracy_score(y_test, log_reg_pred)\n",
        "print(log_reg_accuracy)"
      ],
      "metadata": {
        "id": "CtyOd7E8DcOQ",
        "colab": {
          "base_uri": "https://localhost:8080/"
        },
        "outputId": "ebf6d04b-d301-45ac-a1a8-544b146e166b"
      },
      "execution_count": 11,
      "outputs": [
        {
          "output_type": "stream",
          "name": "stdout",
          "text": [
            "0.8939469734867433\n"
          ]
        }
      ]
    },
    {
      "cell_type": "code",
      "source": [
        "# Decision Tree Classifier\n",
        "dt_classifier = DecisionTreeClassifier()\n",
        "dt_classifier.fit(X_train, y_train)\n",
        "dt_pred = dt_classifier.predict(X_test)\n",
        "dt_accuracy = accuracy_score(y_test, dt_pred)\n",
        "print(dt_accuracy)"
      ],
      "metadata": {
        "id": "5xRBkPd2DfFi",
        "colab": {
          "base_uri": "https://localhost:8080/"
        },
        "outputId": "d3f2423d-37d8-4170-ec93-eeac0195bcf1"
      },
      "execution_count": 12,
      "outputs": [
        {
          "output_type": "stream",
          "name": "stdout",
          "text": [
            "0.8449224612306153\n"
          ]
        }
      ]
    },
    {
      "cell_type": "code",
      "source": [
        "# Random Forest Classifier\n",
        "rf_classifier = RandomForestClassifier()\n",
        "rf_classifier.fit(X_train, y_train)\n",
        "rf_pred = rf_classifier.predict(X_test)\n",
        "rf_accuracy = accuracy_score(y_test, rf_pred)\n",
        "print(rf_accuracy)"
      ],
      "metadata": {
        "id": "owKxUgPxDhx-",
        "colab": {
          "base_uri": "https://localhost:8080/"
        },
        "outputId": "5e1a724e-d69e-467a-8ac1-fcbefafd8a16"
      },
      "execution_count": 13,
      "outputs": [
        {
          "output_type": "stream",
          "name": "stdout",
          "text": [
            "0.8839419709854928\n"
          ]
        }
      ]
    },
    {
      "cell_type": "code",
      "source": [
        "# K-Nearest Neighbors Classifier\n",
        "knn_classifier = KNeighborsClassifier()\n",
        "knn_classifier.fit(X_train, y_train)\n",
        "knn_pred = knn_classifier.predict(X_test)\n",
        "knn_accuracy = accuracy_score(y_test, knn_pred)\n",
        "print(knn_accuracy)"
      ],
      "metadata": {
        "id": "A41i5qMHDkjh",
        "colab": {
          "base_uri": "https://localhost:8080/"
        },
        "outputId": "a4ca70b3-fc54-4f55-a6d0-712cca2f1c33"
      },
      "execution_count": 14,
      "outputs": [
        {
          "output_type": "stream",
          "name": "stdout",
          "text": [
            "0.87943971985993\n"
          ]
        }
      ]
    },
    {
      "cell_type": "code",
      "source": [
        "# ARIMA Model\n",
        "# Assuming you have time series data for ARIMA\n",
        "# Splitting data for ARIMA\n",
        "train_data = data[:int(0.8*(len(data)))]\n",
        "test_data = data[int(0.8*(len(data))):]"
      ],
      "metadata": {
        "id": "MF0f4xzfDoFQ"
      },
      "execution_count": 15,
      "outputs": []
    },
    {
      "cell_type": "code",
      "source": [
        "# LSTM Model\n",
        "# Assuming you have sequential data for LSTM\n",
        "# Reshape the data\n",
        "X_train_lstm = np.reshape(X_train, (X_train.shape[0], X_train.shape[1], 1))\n",
        "X_test_lstm = np.reshape(X_test, (X_test.shape[0], X_test.shape[1], 1))"
      ],
      "metadata": {
        "id": "QJqyU3s6D9Wd"
      },
      "execution_count": 16,
      "outputs": []
    },
    {
      "cell_type": "code",
      "source": [
        "# Build LSTM model\n",
        "lstm_model = Sequential()\n",
        "lstm_model.add(LSTM(units=50, return_sequences=True, input_shape=(X_train_lstm.shape[1], 1)))\n",
        "lstm_model.add(LSTM(units=50, return_sequences=False))\n",
        "lstm_model.add(Dense(units=1))"
      ],
      "metadata": {
        "id": "qoWZhNwpEARt"
      },
      "execution_count": 17,
      "outputs": []
    },
    {
      "cell_type": "code",
      "source": [
        "# Compile the model\n",
        "lstm_model.compile(optimizer='adam', loss='mean_squared_error')"
      ],
      "metadata": {
        "id": "BKTJO094EE22"
      },
      "execution_count": 18,
      "outputs": []
    },
    {
      "cell_type": "code",
      "source": [
        "# Train the model\n",
        "lstm_model.fit(X_train_lstm, y_train, epochs=100, batch_size=32)"
      ],
      "metadata": {
        "id": "Gvx7fx1sEHov",
        "colab": {
          "base_uri": "https://localhost:8080/"
        },
        "outputId": "6e9bdff6-e9c1-448a-a41b-fe7a468f9f9a"
      },
      "execution_count": 19,
      "outputs": [
        {
          "output_type": "stream",
          "name": "stdout",
          "text": [
            "Epoch 1/100\n",
            "250/250 [==============================] - 4s 5ms/step - loss: 0.1523\n",
            "Epoch 2/100\n",
            "250/250 [==============================] - 1s 5ms/step - loss: 0.0870\n",
            "Epoch 3/100\n",
            "250/250 [==============================] - 1s 4ms/step - loss: 0.0864\n",
            "Epoch 4/100\n",
            "250/250 [==============================] - 1s 4ms/step - loss: 0.0858\n",
            "Epoch 5/100\n",
            "250/250 [==============================] - 1s 4ms/step - loss: 0.0851\n",
            "Epoch 6/100\n",
            "250/250 [==============================] - 1s 4ms/step - loss: 0.0854\n",
            "Epoch 7/100\n",
            "250/250 [==============================] - 1s 4ms/step - loss: 0.0850\n",
            "Epoch 8/100\n",
            "250/250 [==============================] - 1s 4ms/step - loss: 0.0853\n",
            "Epoch 9/100\n",
            "250/250 [==============================] - 1s 4ms/step - loss: 0.0846\n",
            "Epoch 10/100\n",
            "250/250 [==============================] - 1s 4ms/step - loss: 0.0842\n",
            "Epoch 11/100\n",
            "250/250 [==============================] - 1s 4ms/step - loss: 0.0845\n",
            "Epoch 12/100\n",
            "250/250 [==============================] - 1s 4ms/step - loss: 0.0847\n",
            "Epoch 13/100\n",
            "250/250 [==============================] - 1s 6ms/step - loss: 0.0842\n",
            "Epoch 14/100\n",
            "250/250 [==============================] - 1s 4ms/step - loss: 0.0843\n",
            "Epoch 15/100\n",
            "250/250 [==============================] - 1s 3ms/step - loss: 0.0840\n",
            "Epoch 16/100\n",
            "250/250 [==============================] - 1s 4ms/step - loss: 0.0846\n",
            "Epoch 17/100\n",
            "250/250 [==============================] - 1s 4ms/step - loss: 0.0843\n",
            "Epoch 18/100\n",
            "250/250 [==============================] - 1s 4ms/step - loss: 0.0841\n",
            "Epoch 19/100\n",
            "250/250 [==============================] - 1s 4ms/step - loss: 0.0842\n",
            "Epoch 20/100\n",
            "250/250 [==============================] - 1s 4ms/step - loss: 0.0837\n",
            "Epoch 21/100\n",
            "250/250 [==============================] - 1s 4ms/step - loss: 0.0840\n",
            "Epoch 22/100\n",
            "250/250 [==============================] - 1s 4ms/step - loss: 0.0834\n",
            "Epoch 23/100\n",
            "250/250 [==============================] - 1s 4ms/step - loss: 0.0843\n",
            "Epoch 24/100\n",
            "250/250 [==============================] - 1s 4ms/step - loss: 0.0836\n",
            "Epoch 25/100\n",
            "250/250 [==============================] - 1s 5ms/step - loss: 0.0837\n",
            "Epoch 26/100\n",
            "250/250 [==============================] - 1s 4ms/step - loss: 0.0835\n",
            "Epoch 27/100\n",
            "250/250 [==============================] - 1s 4ms/step - loss: 0.0834\n",
            "Epoch 28/100\n",
            "250/250 [==============================] - 1s 4ms/step - loss: 0.0842\n",
            "Epoch 29/100\n",
            "250/250 [==============================] - 1s 4ms/step - loss: 0.0836\n",
            "Epoch 30/100\n",
            "250/250 [==============================] - 1s 4ms/step - loss: 0.0842\n",
            "Epoch 31/100\n",
            "250/250 [==============================] - 1s 3ms/step - loss: 0.0841\n",
            "Epoch 32/100\n",
            "250/250 [==============================] - 1s 4ms/step - loss: 0.0835\n",
            "Epoch 33/100\n",
            "250/250 [==============================] - 1s 4ms/step - loss: 0.0832\n",
            "Epoch 34/100\n",
            "250/250 [==============================] - 1s 4ms/step - loss: 0.0837\n",
            "Epoch 35/100\n",
            "250/250 [==============================] - 1s 4ms/step - loss: 0.0837\n",
            "Epoch 36/100\n",
            "250/250 [==============================] - 1s 5ms/step - loss: 0.0834\n",
            "Epoch 37/100\n",
            "250/250 [==============================] - 1s 5ms/step - loss: 0.0836\n",
            "Epoch 38/100\n",
            "250/250 [==============================] - 1s 4ms/step - loss: 0.0835\n",
            "Epoch 39/100\n",
            "250/250 [==============================] - 1s 4ms/step - loss: 0.0834\n",
            "Epoch 40/100\n",
            "250/250 [==============================] - 1s 5ms/step - loss: 0.0832\n",
            "Epoch 41/100\n",
            "250/250 [==============================] - 1s 5ms/step - loss: 0.0837\n",
            "Epoch 42/100\n",
            "250/250 [==============================] - 1s 5ms/step - loss: 0.0835\n",
            "Epoch 43/100\n",
            "250/250 [==============================] - 1s 4ms/step - loss: 0.0832\n",
            "Epoch 44/100\n",
            "250/250 [==============================] - 1s 4ms/step - loss: 0.0834\n",
            "Epoch 45/100\n",
            "250/250 [==============================] - 1s 4ms/step - loss: 0.0833\n",
            "Epoch 46/100\n",
            "250/250 [==============================] - 1s 4ms/step - loss: 0.0832\n",
            "Epoch 47/100\n",
            "250/250 [==============================] - 1s 5ms/step - loss: 0.0834\n",
            "Epoch 48/100\n",
            "250/250 [==============================] - 1s 5ms/step - loss: 0.0837\n",
            "Epoch 49/100\n",
            "250/250 [==============================] - 1s 4ms/step - loss: 0.0832\n",
            "Epoch 50/100\n",
            "250/250 [==============================] - 1s 4ms/step - loss: 0.0833\n",
            "Epoch 51/100\n",
            "250/250 [==============================] - 1s 4ms/step - loss: 0.0833\n",
            "Epoch 52/100\n",
            "250/250 [==============================] - 1s 4ms/step - loss: 0.0834\n",
            "Epoch 53/100\n",
            "250/250 [==============================] - 1s 4ms/step - loss: 0.0835\n",
            "Epoch 54/100\n",
            "250/250 [==============================] - 1s 4ms/step - loss: 0.0834\n",
            "Epoch 55/100\n",
            "250/250 [==============================] - 1s 4ms/step - loss: 0.0832\n",
            "Epoch 56/100\n",
            "250/250 [==============================] - 1s 4ms/step - loss: 0.0834\n",
            "Epoch 57/100\n",
            "250/250 [==============================] - 1s 4ms/step - loss: 0.0834\n",
            "Epoch 58/100\n",
            "250/250 [==============================] - 1s 3ms/step - loss: 0.0833\n",
            "Epoch 59/100\n",
            "250/250 [==============================] - 1s 5ms/step - loss: 0.0832\n",
            "Epoch 60/100\n",
            "250/250 [==============================] - 1s 4ms/step - loss: 0.0832\n",
            "Epoch 61/100\n",
            "250/250 [==============================] - 1s 5ms/step - loss: 0.0832\n",
            "Epoch 62/100\n",
            "250/250 [==============================] - 1s 4ms/step - loss: 0.0832\n",
            "Epoch 63/100\n",
            "250/250 [==============================] - 1s 4ms/step - loss: 0.0835\n",
            "Epoch 64/100\n",
            "250/250 [==============================] - 1s 4ms/step - loss: 0.0833\n",
            "Epoch 65/100\n",
            "250/250 [==============================] - 1s 4ms/step - loss: 0.0831\n",
            "Epoch 66/100\n",
            "250/250 [==============================] - 1s 4ms/step - loss: 0.0831\n",
            "Epoch 67/100\n",
            "250/250 [==============================] - 1s 4ms/step - loss: 0.0831\n",
            "Epoch 68/100\n",
            "250/250 [==============================] - 1s 4ms/step - loss: 0.0833\n",
            "Epoch 69/100\n",
            "250/250 [==============================] - 1s 4ms/step - loss: 0.0831\n",
            "Epoch 70/100\n",
            "250/250 [==============================] - 2s 8ms/step - loss: 0.0834\n",
            "Epoch 71/100\n",
            "250/250 [==============================] - 1s 4ms/step - loss: 0.0833\n",
            "Epoch 72/100\n",
            "250/250 [==============================] - 1s 4ms/step - loss: 0.0830\n",
            "Epoch 73/100\n",
            "250/250 [==============================] - 1s 4ms/step - loss: 0.0832\n",
            "Epoch 74/100\n",
            "250/250 [==============================] - 1s 4ms/step - loss: 0.0830\n",
            "Epoch 75/100\n",
            "250/250 [==============================] - 1s 4ms/step - loss: 0.0831\n",
            "Epoch 76/100\n",
            "250/250 [==============================] - 1s 4ms/step - loss: 0.0831\n",
            "Epoch 77/100\n",
            "250/250 [==============================] - 1s 4ms/step - loss: 0.0832\n",
            "Epoch 78/100\n",
            "250/250 [==============================] - 1s 4ms/step - loss: 0.0830\n",
            "Epoch 79/100\n",
            "250/250 [==============================] - 1s 4ms/step - loss: 0.0832\n",
            "Epoch 80/100\n",
            "250/250 [==============================] - 1s 4ms/step - loss: 0.0832\n",
            "Epoch 81/100\n",
            "250/250 [==============================] - 1s 5ms/step - loss: 0.0830\n",
            "Epoch 82/100\n",
            "250/250 [==============================] - 1s 5ms/step - loss: 0.0830\n",
            "Epoch 83/100\n",
            "250/250 [==============================] - 1s 4ms/step - loss: 0.0832\n",
            "Epoch 84/100\n",
            "250/250 [==============================] - 1s 4ms/step - loss: 0.0830\n",
            "Epoch 85/100\n",
            "250/250 [==============================] - 1s 4ms/step - loss: 0.0831\n",
            "Epoch 86/100\n",
            "250/250 [==============================] - 1s 4ms/step - loss: 0.0832\n",
            "Epoch 87/100\n",
            "250/250 [==============================] - 1s 4ms/step - loss: 0.0831\n",
            "Epoch 88/100\n",
            "250/250 [==============================] - 1s 4ms/step - loss: 0.0831\n",
            "Epoch 89/100\n",
            "250/250 [==============================] - 1s 4ms/step - loss: 0.0830\n",
            "Epoch 90/100\n",
            "250/250 [==============================] - 1s 4ms/step - loss: 0.0832\n",
            "Epoch 91/100\n",
            "250/250 [==============================] - 1s 4ms/step - loss: 0.0831\n",
            "Epoch 92/100\n",
            "250/250 [==============================] - 1s 4ms/step - loss: 0.0829\n",
            "Epoch 93/100\n",
            "250/250 [==============================] - 1s 5ms/step - loss: 0.0832\n",
            "Epoch 94/100\n",
            "250/250 [==============================] - 1s 4ms/step - loss: 0.0830\n",
            "Epoch 95/100\n",
            "250/250 [==============================] - 1s 4ms/step - loss: 0.0831\n",
            "Epoch 96/100\n",
            "250/250 [==============================] - 1s 4ms/step - loss: 0.0830\n",
            "Epoch 97/100\n",
            "250/250 [==============================] - 1s 4ms/step - loss: 0.0831\n",
            "Epoch 98/100\n",
            "250/250 [==============================] - 1s 4ms/step - loss: 0.0831\n",
            "Epoch 99/100\n",
            "250/250 [==============================] - 1s 4ms/step - loss: 0.0833\n",
            "Epoch 100/100\n",
            "250/250 [==============================] - 1s 4ms/step - loss: 0.0830\n"
          ]
        },
        {
          "output_type": "execute_result",
          "data": {
            "text/plain": [
              "<keras.src.callbacks.History at 0x7f8b044ebe50>"
            ]
          },
          "metadata": {},
          "execution_count": 19
        }
      ]
    },
    {
      "cell_type": "code",
      "source": [
        "# Predictions\n",
        "lstm_predictions = lstm_model.predict(X_test_lstm)"
      ],
      "metadata": {
        "id": "zUn4HkBwEKf7",
        "colab": {
          "base_uri": "https://localhost:8080/"
        },
        "outputId": "3ee073f3-6670-461b-ad61-8d0c36de3134"
      },
      "execution_count": null,
      "outputs": [
        {
          "output_type": "stream",
          "name": "stdout",
          "text": [
            "34/34 [==============================] - 2s 5ms/step\n"
          ]
        }
      ]
    },
    {
      "cell_type": "code",
      "source": [
        "# Visualization (assuming you want to visualize predictions)\n",
        "plt.plot(test_data.index, test_data['Roaring_Content_type'], label='Actual')\n",
        "plt.legend()\n",
        "plt.show()"
      ],
      "metadata": {
        "id": "3dhVknW8ERKk",
        "colab": {
          "base_uri": "https://localhost:8080/",
          "height": 430
        },
        "outputId": "129f25d2-dcc3-4513-89cd-4ffa397bc659"
      },
      "execution_count": 22,
      "outputs": [
        {
          "output_type": "display_data",
          "data": {
            "text/plain": [
              "<Figure size 640x480 with 1 Axes>"
            ],
            "image/png": "[encoded data removed]"
          },
          "metadata": {}
        }
      ]
    },
    {
      "cell_type": "code",
      "source": [
        "# Visualization (assuming you want to visualize predictions)\n",
        "plt.plot(test_data.index, test_data['Roaring_Page_Number'], label='Actual')\n",
        "plt.legend()\n",
        "plt.show()"
      ],
      "metadata": {
        "colab": {
          "base_uri": "https://localhost:8080/",
          "height": 430
        },
        "id": "WRvsf8rwPhzg",
        "outputId": "9abbf309-8d33-4ab4-f636-e9555775ba90"
      },
      "execution_count": 24,
      "outputs": [
        {
          "output_type": "display_data",
          "data": {
            "text/plain": [
              "<Figure size 640x480 with 1 Axes>"
            ],
            "image/png": "[encoded data removed]"
          },
          "metadata": {}
        }
      ]
    },
    {
      "cell_type": "code",
      "source": [
        "# Visualization (assuming you want to visualize predictions)\n",
        "plt.plot(test_data.index, test_data['Roaring_Sound_Length'], label='Actual')\n",
        "plt.legend()\n",
        "plt.show()"
      ],
      "metadata": {
        "colab": {
          "base_uri": "https://localhost:8080/",
          "height": 430
        },
        "id": "DzgPSE1NPq6T",
        "outputId": "9b34c031-3376-47ba-b43a-80c2652cd764"
      },
      "execution_count": 26,
      "outputs": [
        {
          "output_type": "display_data",
          "data": {
            "text/plain": [
              "<Figure size 640x480 with 1 Axes>"
            ],
            "image/png": "[encoded data removed]"
          },
          "metadata": {}
        }
      ]
    }
  ]
}